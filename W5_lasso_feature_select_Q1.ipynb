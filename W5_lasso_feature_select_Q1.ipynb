{
 "cells": [
  {
   "cell_type": "markdown",
   "metadata": {},
   "source": [
    "# Regression Week 5:\n",
    "## Feature selection and LASSO"
   ]
  },
  {
   "cell_type": "markdown",
   "metadata": {},
   "source": [
    "In this notebook, you will use LASSO to select features, building on a pre-implemented solver for LASSO (using GraphLab Create, though you can use other solvers). You will:\n",
    "* Run LASSO with different L1 penalties.\n",
    "* Choose best L1 penalty using a validation set.\n",
    "* Choose best L1 penalty using a validation set, with additional constraint on the size of subset.\n",
    "\n",
    "In the second notebook, you will implement your own LASSO solver, using coordinate descent. "
   ]
  },
  {
   "cell_type": "code",
   "execution_count": 2,
   "metadata": {
    "collapsed": true
   },
   "outputs": [],
   "source": [
    "import graphlab"
   ]
  },
  {
   "cell_type": "code",
   "execution_count": 3,
   "metadata": {
    "collapsed": false
   },
   "outputs": [
    {
     "name": "stderr",
     "output_type": "stream",
     "text": [
      "[INFO] \u001b[1;32m1452910312 : INFO:     (initialize_globals_from_environment:282): Setting configuration variable GRAPHLAB_FILEIO_ALTERNATIVE_SSL_CERT_FILE to /usr/local/lib/python2.7/dist-packages/certifi/cacert.pem\n",
      "\u001b[0m\u001b[1;32m1452910312 : INFO:     (initialize_globals_from_environment:282): Setting configuration variable GRAPHLAB_FILEIO_ALTERNATIVE_SSL_CERT_DIR to \n",
      "\u001b[0mThis non-commercial license of GraphLab Create is assigned to 527536646@qq.com and will expire on October 23, 2016. For commercial licensing options, visit https://dato.com/buy/.\n",
      "\n",
      "[INFO] Start server at: ipc:///tmp/graphlab_server-1235 - Server binary: /usr/local/lib/python2.7/dist-packages/graphlab/unity_server - Server log: /tmp/graphlab_server_1452910312.log\n",
      "[INFO] GraphLab Server Version: 1.7.1\n"
     ]
    }
   ],
   "source": [
    "sales = graphlab.SFrame('kc_house_data.gl/')"
   ]
  },
  {
   "cell_type": "code",
   "execution_count": 4,
   "metadata": {
    "collapsed": true
   },
   "outputs": [],
   "source": [
    "from math import log,sqrt\n",
    "sales['sqft_living_sqrt'] = sales['sqft_living'].apply(sqrt)\n",
    "sales['sqft_lot_sqrt'] = sales['sqft_lot'].apply(sqrt)\n",
    "sales['bedrooms_square'] = sales['bedrooms']*sales['bedrooms']\n",
    "\n",
    "# In the dataset, 'floors' was defined with type string, \n",
    "# so we'll convert them to float, before creating a new feature.\n",
    "sales['floors'] = sales['floors'].astype(float)\n",
    "sales['floors_square'] = sales['floors']*sales['floors']\n"
   ]
  },
  {
   "cell_type": "markdown",
   "metadata": {},
   "source": [
    "# Learn regression weights with L1 penalty"
   ]
  },
  {
   "cell_type": "markdown",
   "metadata": {},
   "source": [
    "Let us fit a model with all the features available, plus the features we just created above."
   ]
  },
  {
   "cell_type": "code",
   "execution_count": 5,
   "metadata": {
    "collapsed": true
   },
   "outputs": [],
   "source": [
    "all_features = ['bedrooms','bedrooms_square','bathrooms',\n",
    "                'sqft_living','sqft_living_sqrt',\n",
    "                'sqft_lot','sqft_lot_sqrt',\n",
    "                'floors','floors_square','waterfront','view','condition','grade',\n",
    "               'sqft_above','sqft_basement',\n",
    "               'yr_built','yr_renovated']"
   ]
  },
  {
   "cell_type": "markdown",
   "metadata": {},
   "source": [
    "Applying L1 penalty requires adding an extra parameter (`l1_penalty`) to the linear regression call in GraphLab Create. (Other tools may have separate implementations of LASSO.)  Note that it's important to set `l2_penalty=0` to ensure we don't introduce an additional L2 penalty."
   ]
  },
  {
   "cell_type": "code",
   "execution_count": 6,
   "metadata": {
    "collapsed": false
   },
   "outputs": [
    {
     "name": "stdout",
     "output_type": "stream",
     "text": [
      "PROGRESS: Linear regression:\n",
      "PROGRESS: --------------------------------------------------------\n",
      "PROGRESS: Number of examples          : 21613\n",
      "PROGRESS: Number of features          : 17\n",
      "PROGRESS: Number of unpacked features : 17\n",
      "PROGRESS: Number of coefficients    : 18\n",
      "PROGRESS: Starting Accelerated Gradient (FISTA)\n",
      "PROGRESS: --------------------------------------------------------\n",
      "PROGRESS: +-----------+----------+-----------+--------------+--------------------+---------------+\n",
      "PROGRESS: | Iteration | Passes   | Step size | Elapsed Time | Training-max_error | Training-rmse |\n",
      "PROGRESS: +-----------+----------+-----------+--------------+--------------------+---------------+\n",
      "PROGRESS: Tuning step size. First iteration could take longer than subsequent iterations.\n",
      "PROGRESS: | 1         | 2        | 0.000002  | 1.306641     | 6962915.603493     | 426631.749026 |\n",
      "PROGRESS: | 2         | 3        | 0.000002  | 1.341030     | 6843144.200219     | 392488.929838 |\n",
      "PROGRESS: | 3         | 4        | 0.000002  | 1.374558     | 6831900.032123     | 385340.166783 |\n",
      "PROGRESS: | 4         | 5        | 0.000002  | 1.408040     | 6847166.848958     | 384842.383767 |\n",
      "PROGRESS: | 5         | 6        | 0.000002  | 1.441804     | 6869667.895833     | 385998.458623 |\n",
      "PROGRESS: | 6         | 7        | 0.000002  | 1.475293     | 6847177.773672     | 380824.455891 |\n",
      "PROGRESS: +-----------+----------+-----------+--------------+--------------------+---------------+\n",
      "PROGRESS: TERMINATED: Iteration limit reached.\n",
      "PROGRESS: This model may not be optimal. To improve it, consider increasing `max_iterations`.\n"
     ]
    }
   ],
   "source": [
    "model_all = graphlab.linear_regression.create(sales, target='price', features=all_features,\n",
    "                                              validation_set=None, \n",
    "                                              l2_penalty=0., l1_penalty=1e10)"
   ]
  },
  {
   "cell_type": "code",
   "execution_count": 7,
   "metadata": {
    "collapsed": false
   },
   "outputs": [
    {
     "data": {
      "text/html": [
       "<div style=\"max-height:1000px;max-width:1500px;overflow:auto;\"><table frame=\"box\" rules=\"cols\">\n",
       "    <tr>\n",
       "        <th style=\"padding-left: 1em; padding-right: 1em; text-align: center\">name</th>\n",
       "        <th style=\"padding-left: 1em; padding-right: 1em; text-align: center\">index</th>\n",
       "        <th style=\"padding-left: 1em; padding-right: 1em; text-align: center\">value</th>\n",
       "    </tr>\n",
       "    <tr>\n",
       "        <td style=\"padding-left: 1em; padding-right: 1em; text-align: center; vertical-align: top\">(intercept)</td>\n",
       "        <td style=\"padding-left: 1em; padding-right: 1em; text-align: center; vertical-align: top\">None</td>\n",
       "        <td style=\"padding-left: 1em; padding-right: 1em; text-align: center; vertical-align: top\">274873.05595</td>\n",
       "    </tr>\n",
       "    <tr>\n",
       "        <td style=\"padding-left: 1em; padding-right: 1em; text-align: center; vertical-align: top\">bedrooms</td>\n",
       "        <td style=\"padding-left: 1em; padding-right: 1em; text-align: center; vertical-align: top\">None</td>\n",
       "        <td style=\"padding-left: 1em; padding-right: 1em; text-align: center; vertical-align: top\">0.0</td>\n",
       "    </tr>\n",
       "    <tr>\n",
       "        <td style=\"padding-left: 1em; padding-right: 1em; text-align: center; vertical-align: top\">bedrooms_square</td>\n",
       "        <td style=\"padding-left: 1em; padding-right: 1em; text-align: center; vertical-align: top\">None</td>\n",
       "        <td style=\"padding-left: 1em; padding-right: 1em; text-align: center; vertical-align: top\">0.0</td>\n",
       "    </tr>\n",
       "    <tr>\n",
       "        <td style=\"padding-left: 1em; padding-right: 1em; text-align: center; vertical-align: top\">bathrooms</td>\n",
       "        <td style=\"padding-left: 1em; padding-right: 1em; text-align: center; vertical-align: top\">None</td>\n",
       "        <td style=\"padding-left: 1em; padding-right: 1em; text-align: center; vertical-align: top\">8468.53108691</td>\n",
       "    </tr>\n",
       "    <tr>\n",
       "        <td style=\"padding-left: 1em; padding-right: 1em; text-align: center; vertical-align: top\">sqft_living</td>\n",
       "        <td style=\"padding-left: 1em; padding-right: 1em; text-align: center; vertical-align: top\">None</td>\n",
       "        <td style=\"padding-left: 1em; padding-right: 1em; text-align: center; vertical-align: top\">24.4207209824</td>\n",
       "    </tr>\n",
       "    <tr>\n",
       "        <td style=\"padding-left: 1em; padding-right: 1em; text-align: center; vertical-align: top\">sqft_living_sqrt</td>\n",
       "        <td style=\"padding-left: 1em; padding-right: 1em; text-align: center; vertical-align: top\">None</td>\n",
       "        <td style=\"padding-left: 1em; padding-right: 1em; text-align: center; vertical-align: top\">350.060553386</td>\n",
       "    </tr>\n",
       "    <tr>\n",
       "        <td style=\"padding-left: 1em; padding-right: 1em; text-align: center; vertical-align: top\">sqft_lot</td>\n",
       "        <td style=\"padding-left: 1em; padding-right: 1em; text-align: center; vertical-align: top\">None</td>\n",
       "        <td style=\"padding-left: 1em; padding-right: 1em; text-align: center; vertical-align: top\">0.0</td>\n",
       "    </tr>\n",
       "    <tr>\n",
       "        <td style=\"padding-left: 1em; padding-right: 1em; text-align: center; vertical-align: top\">sqft_lot_sqrt</td>\n",
       "        <td style=\"padding-left: 1em; padding-right: 1em; text-align: center; vertical-align: top\">None</td>\n",
       "        <td style=\"padding-left: 1em; padding-right: 1em; text-align: center; vertical-align: top\">0.0</td>\n",
       "    </tr>\n",
       "    <tr>\n",
       "        <td style=\"padding-left: 1em; padding-right: 1em; text-align: center; vertical-align: top\">floors</td>\n",
       "        <td style=\"padding-left: 1em; padding-right: 1em; text-align: center; vertical-align: top\">None</td>\n",
       "        <td style=\"padding-left: 1em; padding-right: 1em; text-align: center; vertical-align: top\">0.0</td>\n",
       "    </tr>\n",
       "    <tr>\n",
       "        <td style=\"padding-left: 1em; padding-right: 1em; text-align: center; vertical-align: top\">floors_square</td>\n",
       "        <td style=\"padding-left: 1em; padding-right: 1em; text-align: center; vertical-align: top\">None</td>\n",
       "        <td style=\"padding-left: 1em; padding-right: 1em; text-align: center; vertical-align: top\">0.0</td>\n",
       "    </tr>\n",
       "</table>\n",
       "[18 rows x 3 columns]<br/>Note: Only the head of the SFrame is printed.<br/>You can use print_rows(num_rows=m, num_columns=n) to print more rows and columns.\n",
       "</div>"
      ],
      "text/plain": [
       "Columns:\n",
       "\tname\tstr\n",
       "\tindex\tstr\n",
       "\tvalue\tfloat\n",
       "\n",
       "Rows: 18\n",
       "\n",
       "Data:\n",
       "+------------------+-------+---------------+\n",
       "|       name       | index |     value     |\n",
       "+------------------+-------+---------------+\n",
       "|   (intercept)    |  None |  274873.05595 |\n",
       "|     bedrooms     |  None |      0.0      |\n",
       "| bedrooms_square  |  None |      0.0      |\n",
       "|    bathrooms     |  None | 8468.53108691 |\n",
       "|   sqft_living    |  None | 24.4207209824 |\n",
       "| sqft_living_sqrt |  None | 350.060553386 |\n",
       "|     sqft_lot     |  None |      0.0      |\n",
       "|  sqft_lot_sqrt   |  None |      0.0      |\n",
       "|      floors      |  None |      0.0      |\n",
       "|  floors_square   |  None |      0.0      |\n",
       "+------------------+-------+---------------+\n",
       "[18 rows x 3 columns]\n",
       "Note: Only the head of the SFrame is printed.\n",
       "You can use print_rows(num_rows=m, num_columns=n) to print more rows and columns."
      ]
     },
     "execution_count": 7,
     "metadata": {},
     "output_type": "execute_result"
    }
   ],
   "source": [
    "model_all.get(\"coefficients\")"
   ]
  },
  {
   "cell_type": "code",
   "execution_count": 8,
   "metadata": {
    "collapsed": false
   },
   "outputs": [
    {
     "name": "stdout",
     "output_type": "stream",
     "text": [
      "{'index': None, 'name': '(intercept)', 'value': 274873.0559504954}\n",
      "{'index': None, 'name': 'bathrooms', 'value': 8468.53108691012}\n",
      "{'index': None, 'name': 'sqft_living', 'value': 24.42072098244649}\n",
      "{'index': None, 'name': 'sqft_living_sqrt', 'value': 350.0605533860531}\n",
      "{'index': None, 'name': 'grade', 'value': 842.0680348975135}\n",
      "{'index': None, 'name': 'sqft_above', 'value': 20.02472241709075}\n"
     ]
    }
   ],
   "source": [
    "for i in range(18):\n",
    "    if model_all.get(\"coefficients\")[i]['value']!=0:\n",
    "        print model_all.get(\"coefficients\")[i]"
   ]
  },
  {
   "cell_type": "markdown",
   "metadata": {},
   "source": [
    "Note that a majority of the weights have been set to zero. So by setting an L1 penalty that's large enough, we are performing a subset selection. \n",
    "\n",
    "***QUIZ QUESTION***:\n",
    "According to this list of weights, which of the features have been chosen? "
   ]
  },
  {
   "cell_type": "markdown",
   "metadata": {},
   "source": [
    "# Selecting an L1 penalty"
   ]
  },
  {
   "cell_type": "markdown",
   "metadata": {},
   "source": [
    "To find a good L1 penalty, we will explore multiple values using a validation set. Let us do three way split into train, validation, and test sets:\n",
    "* Split our sales data into 2 sets: training and test\n",
    "* Further split our training data into two sets: train, validation\n",
    "\n",
    "Be *very* careful that you use seed = 1 to ensure you get the same answer!"
   ]
  },
  {
   "cell_type": "code",
   "execution_count": 9,
   "metadata": {
    "collapsed": true
   },
   "outputs": [],
   "source": [
    "(training_and_validation, testing) = sales.random_split(.9,seed=1) # initial train/test split\n",
    "(training, validation) = training_and_validation.random_split(0.5, seed=1) # split training into train and validate"
   ]
  },
  {
   "cell_type": "markdown",
   "metadata": {},
   "source": [
    "Next, we write a loop that does the following:\n",
    "* For `l1_penalty` in [10^1, 10^1.5, 10^2, 10^2.5, ..., 10^7] (to get this in Python, type `np.logspace(1, 7, num=13)`.)\n",
    "    * Fit a regression model with a given `l1_penalty` on TRAIN data. Specify `l1_penalty=l1_penalty` and `l2_penalty=0.` in the parameter list.\n",
    "    * Compute the RSS on VALIDATION data (here you will want to use `.predict()`) for that `l1_penalty`\n",
    "* Report which `l1_penalty` produced the lowest RSS on validation data.\n",
    "\n",
    "When you call `linear_regression.create()` make sure you set `validation_set = None`.\n",
    "\n",
    "Note: you can turn off the print out of `linear_regression.create()` with `verbose = False`"
   ]
  },
  {
   "cell_type": "code",
   "execution_count": 10,
   "metadata": {
    "collapsed": true
   },
   "outputs": [],
   "source": [
    "import numpy as np\n",
    "\n",
    "l1_penalty =  np.logspace(1, 7, num=13)"
   ]
  },
  {
   "cell_type": "code",
   "execution_count": 11,
   "metadata": {
    "collapsed": false
   },
   "outputs": [
    {
     "name": "stdout",
     "output_type": "stream",
     "text": [
      "[  1.00000000e+01   3.16227766e+01   1.00000000e+02   3.16227766e+02\n",
      "   1.00000000e+03   3.16227766e+03   1.00000000e+04   3.16227766e+04\n",
      "   1.00000000e+05   3.16227766e+05   1.00000000e+06   3.16227766e+06\n",
      "   1.00000000e+07]\n"
     ]
    }
   ],
   "source": [
    "print l1_penalty"
   ]
  },
  {
   "cell_type": "code",
   "execution_count": 12,
   "metadata": {
    "collapsed": false
   },
   "outputs": [
    {
     "name": "stdout",
     "output_type": "stream",
     "text": [
      "PROGRESS: Linear regression:\n",
      "PROGRESS: --------------------------------------------------------\n",
      "PROGRESS: Number of examples          : 9761\n",
      "PROGRESS: Number of features          : 17\n",
      "PROGRESS: Number of unpacked features : 17\n",
      "PROGRESS: Number of coefficients    : 18\n",
      "PROGRESS: Starting Accelerated Gradient (FISTA)\n",
      "PROGRESS: --------------------------------------------------------\n",
      "PROGRESS: +-----------+----------+-----------+--------------+--------------------+---------------+\n",
      "PROGRESS: | Iteration | Passes   | Step size | Elapsed Time | Training-max_error | Training-rmse |\n",
      "PROGRESS: +-----------+----------+-----------+--------------+--------------------+---------------+\n",
      "PROGRESS: Tuning step size. First iteration could take longer than subsequent iterations.\n",
      "PROGRESS: | 1         | 2        | 0.000003  | 0.114861     | 6287414.310279     | 322429.554621 |\n",
      "PROGRESS: | 2         | 3        | 0.000003  | 0.129054     | 6004129.870008     | 303352.364502 |\n",
      "PROGRESS: | 3         | 4        | 0.000003  | 0.143135     | 5888882.499599     | 298370.510858 |\n",
      "PROGRESS: | 4         | 5        | 0.000003  | 0.157385     | 5813781.207975     | 293774.670687 |\n",
      "PROGRESS: | 5         | 6        | 0.000003  | 0.172146     | 5737572.318059     | 289374.784200 |\n",
      "PROGRESS: | 6         | 7        | 0.000003  | 0.186049     | 5655864.782013     | 285354.826809 |\n",
      "PROGRESS: +-----------+----------+-----------+--------------+--------------------+---------------+\n",
      "PROGRESS: TERMINATED: Iteration limit reached.\n",
      "PROGRESS: This model may not be optimal. To improve it, consider increasing `max_iterations`.\n",
      "PROGRESS: Linear regression:\n",
      "PROGRESS: --------------------------------------------------------\n",
      "PROGRESS: Number of examples          : 9761\n",
      "PROGRESS: Number of features          : 17\n",
      "PROGRESS: Number of unpacked features : 17\n",
      "PROGRESS: Number of coefficients    : 18\n",
      "PROGRESS: Starting Accelerated Gradient (FISTA)\n",
      "PROGRESS: --------------------------------------------------------\n",
      "PROGRESS: +-----------+----------+-----------+--------------+--------------------+---------------+\n",
      "PROGRESS: | Iteration | Passes   | Step size | Elapsed Time | Training-max_error | Training-rmse |\n",
      "PROGRESS: +-----------+----------+-----------+--------------+--------------------+---------------+\n",
      "PROGRESS: Tuning step size. First iteration could take longer than subsequent iterations.\n",
      "PROGRESS: | 1         | 2        | 0.000003  | 0.118683     | 6287414.313562     | 322429.554953 |\n",
      "PROGRESS: | 2         | 3        | 0.000003  | 0.132817     | 6004129.874269     | 303352.364626 |\n",
      "PROGRESS: | 3         | 4        | 0.000003  | 0.147059     | 5888882.504575     | 298370.510940 |\n",
      "PROGRESS: | 4         | 5        | 0.000003  | 0.161264     | 5813781.213635     | 293774.670786 |\n",
      "PROGRESS: | 5         | 6        | 0.000003  | 0.175383     | 5737572.324432     | 289374.784313 |\n",
      "PROGRESS: | 6         | 7        | 0.000003  | 0.189877     | 5655864.789116     | 285354.826924 |\n",
      "PROGRESS: +-----------+----------+-----------+--------------+--------------------+---------------+\n",
      "PROGRESS: TERMINATED: Iteration limit reached.\n",
      "PROGRESS: This model may not be optimal. To improve it, consider increasing `max_iterations`.\n",
      "PROGRESS: Linear regression:\n",
      "PROGRESS: --------------------------------------------------------\n",
      "PROGRESS: Number of examples          : 9761\n",
      "PROGRESS: Number of features          : 17\n",
      "PROGRESS: Number of unpacked features : 17\n",
      "PROGRESS: Number of coefficients    : 18\n",
      "PROGRESS: Starting Accelerated Gradient (FISTA)\n",
      "PROGRESS: --------------------------------------------------------\n",
      "PROGRESS: +-----------+----------+-----------+--------------+--------------------+---------------+\n",
      "PROGRESS: | Iteration | Passes   | Step size | Elapsed Time | Training-max_error | Training-rmse |\n",
      "PROGRESS: +-----------+----------+-----------+--------------+--------------------+---------------+\n",
      "PROGRESS: Tuning step size. First iteration could take longer than subsequent iterations.\n",
      "PROGRESS: | 1         | 2        | 0.000003  | 0.115193     | 6287414.323944     | 322429.556003 |\n",
      "PROGRESS: | 2         | 3        | 0.000003  | 0.129424     | 6004129.887744     | 303352.365020 |\n",
      "PROGRESS: | 3         | 4        | 0.000003  | 0.145572     | 5888882.520311     | 298370.511200 |\n",
      "PROGRESS: | 4         | 5        | 0.000003  | 0.160531     | 5813781.231534     | 293774.671099 |\n",
      "PROGRESS: | 5         | 6        | 0.000003  | 0.174567     | 5737572.344586     | 289374.784672 |\n",
      "PROGRESS: | 6         | 7        | 0.000003  | 0.188798     | 5655864.811580     | 285354.827288 |\n",
      "PROGRESS: +-----------+----------+-----------+--------------+--------------------+---------------+\n",
      "PROGRESS: TERMINATED: Iteration limit reached.\n",
      "PROGRESS: This model may not be optimal. To improve it, consider increasing `max_iterations`.\n",
      "PROGRESS: Linear regression:\n",
      "PROGRESS: --------------------------------------------------------\n",
      "PROGRESS: Number of examples          : 9761\n",
      "PROGRESS: Number of features          : 17\n",
      "PROGRESS: Number of unpacked features : 17\n",
      "PROGRESS: Number of coefficients    : 18\n",
      "PROGRESS: Starting Accelerated Gradient (FISTA)\n",
      "PROGRESS: --------------------------------------------------------\n",
      "PROGRESS: +-----------+----------+-----------+--------------+--------------------+---------------+\n",
      "PROGRESS: | Iteration | Passes   | Step size | Elapsed Time | Training-max_error | Training-rmse |\n",
      "PROGRESS: +-----------+----------+-----------+--------------+--------------------+---------------+\n",
      "PROGRESS: Tuning step size. First iteration could take longer than subsequent iterations.\n",
      "PROGRESS: | 1         | 2        | 0.000003  | 0.118246     | 6287414.356773     | 322429.559323 |\n",
      "PROGRESS: | 2         | 3        | 0.000003  | 0.132673     | 6004129.930357     | 303352.366264 |\n",
      "PROGRESS: | 3         | 4        | 0.000003  | 0.147040     | 5888882.570072     | 298370.512023 |\n",
      "PROGRESS: | 4         | 5        | 0.000003  | 0.161351     | 5813781.288134     | 293774.672088 |\n",
      "PROGRESS: | 5         | 6        | 0.000003  | 0.175510     | 5737572.408316     | 289374.785805 |\n",
      "PROGRESS: | 6         | 7        | 0.000003  | 0.189631     | 5655864.882615     | 285354.828441 |\n",
      "PROGRESS: +-----------+----------+-----------+--------------+--------------------+---------------+\n",
      "PROGRESS: TERMINATED: Iteration limit reached.\n",
      "PROGRESS: This model may not be optimal. To improve it, consider increasing `max_iterations`.\n",
      "PROGRESS: Linear regression:\n",
      "PROGRESS: --------------------------------------------------------\n",
      "PROGRESS: Number of examples          : 9761\n",
      "PROGRESS: Number of features          : 17\n",
      "PROGRESS: Number of unpacked features : 17\n",
      "PROGRESS: Number of coefficients    : 18\n",
      "PROGRESS: Starting Accelerated Gradient (FISTA)\n",
      "PROGRESS: --------------------------------------------------------\n",
      "PROGRESS: +-----------+----------+-----------+--------------+--------------------+---------------+\n",
      "PROGRESS: | Iteration | Passes   | Step size | Elapsed Time | Training-max_error | Training-rmse |\n",
      "PROGRESS: +-----------+----------+-----------+--------------+--------------------+---------------+\n",
      "PROGRESS: Tuning step size. First iteration could take longer than subsequent iterations.\n",
      "PROGRESS: | 1         | 2        | 0.000003  | 0.118130     | 6287414.460587     | 322429.569820 |\n",
      "PROGRESS: | 2         | 3        | 0.000003  | 0.132379     | 6004130.065110     | 303352.370200 |\n",
      "PROGRESS: | 3         | 4        | 0.000003  | 0.146563     | 5888882.727430     | 298370.514625 |\n",
      "PROGRESS: | 4         | 5        | 0.000003  | 0.160447     | 5813781.467118     | 293774.675217 |\n",
      "PROGRESS: | 5         | 6        | 0.000003  | 0.174591     | 5737572.609850     | 289374.789391 |\n",
      "PROGRESS: | 6         | 7        | 0.000003  | 0.188561     | 5655865.107248     | 285354.832084 |\n",
      "PROGRESS: +-----------+----------+-----------+--------------+--------------------+---------------+\n",
      "PROGRESS: TERMINATED: Iteration limit reached.\n",
      "PROGRESS: This model may not be optimal. To improve it, consider increasing `max_iterations`.\n",
      "PROGRESS: Linear regression:\n",
      "PROGRESS: --------------------------------------------------------\n",
      "PROGRESS: Number of examples          : 9761\n",
      "PROGRESS: Number of features          : 17\n",
      "PROGRESS: Number of unpacked features : 17\n",
      "PROGRESS: Number of coefficients    : 18\n",
      "PROGRESS: Starting Accelerated Gradient (FISTA)\n",
      "PROGRESS: --------------------------------------------------------\n",
      "PROGRESS: +-----------+----------+-----------+--------------+--------------------+---------------+\n",
      "PROGRESS: | Iteration | Passes   | Step size | Elapsed Time | Training-max_error | Training-rmse |\n",
      "PROGRESS: +-----------+----------+-----------+--------------+--------------------+---------------+\n",
      "PROGRESS: Tuning step size. First iteration could take longer than subsequent iterations.\n",
      "PROGRESS: | 1         | 2        | 0.000003  | 0.117280     | 6287414.788876     | 322429.603015 |\n",
      "PROGRESS: | 2         | 3        | 0.000003  | 0.131803     | 6004130.491238     | 303352.382646 |\n",
      "PROGRESS: | 3         | 4        | 0.000003  | 0.145981     | 5888883.225042     | 298370.522854 |\n",
      "PROGRESS: | 4         | 5        | 0.000003  | 0.160390     | 5813782.033117     | 293774.685112 |\n",
      "PROGRESS: | 5         | 6        | 0.000003  | 0.175427     | 5737573.247157     | 289374.800728 |\n",
      "PROGRESS: | 6         | 7        | 0.000003  | 0.189677     | 5655865.817602     | 285354.843605 |\n",
      "PROGRESS: +-----------+----------+-----------+--------------+--------------------+---------------+\n",
      "PROGRESS: TERMINATED: Iteration limit reached.\n",
      "PROGRESS: This model may not be optimal. To improve it, consider increasing `max_iterations`.\n",
      "PROGRESS: Linear regression:\n",
      "PROGRESS: --------------------------------------------------------\n",
      "PROGRESS: Number of examples          : 9761\n",
      "PROGRESS: Number of features          : 17\n",
      "PROGRESS: Number of unpacked features : 17\n",
      "PROGRESS: Number of coefficients    : 18\n",
      "PROGRESS: Starting Accelerated Gradient (FISTA)\n",
      "PROGRESS: --------------------------------------------------------\n",
      "PROGRESS: +-----------+----------+-----------+--------------+--------------------+---------------+\n",
      "PROGRESS: | Iteration | Passes   | Step size | Elapsed Time | Training-max_error | Training-rmse |\n",
      "PROGRESS: +-----------+----------+-----------+--------------+--------------------+---------------+\n",
      "PROGRESS: Tuning step size. First iteration could take longer than subsequent iterations.\n",
      "PROGRESS: | 1         | 2        | 0.000003  | 0.118230     | 6287415.827019     | 322429.707988 |\n",
      "PROGRESS: | 2         | 3        | 0.000003  | 0.132616     | 6004131.838771     | 303352.422004 |\n",
      "PROGRESS: | 3         | 4        | 0.000003  | 0.146790     | 5888884.798629     | 298370.548875 |\n",
      "PROGRESS: | 4         | 5        | 0.000003  | 0.160881     | 5813783.822962     | 293774.716403 |\n",
      "PROGRESS: | 5         | 6        | 0.000003  | 0.175330     | 5737575.262497     | 289374.836581 |\n",
      "PROGRESS: | 6         | 7        | 0.000003  | 0.189491     | 5655868.063937     | 285354.880039 |\n",
      "PROGRESS: +-----------+----------+-----------+--------------+--------------------+---------------+\n",
      "PROGRESS: TERMINATED: Iteration limit reached.\n",
      "PROGRESS: This model may not be optimal. To improve it, consider increasing `max_iterations`.\n",
      "PROGRESS: Linear regression:\n",
      "PROGRESS: --------------------------------------------------------\n",
      "PROGRESS: Number of examples          : 9761\n",
      "PROGRESS: Number of features          : 17\n",
      "PROGRESS: Number of unpacked features : 17\n",
      "PROGRESS: Number of coefficients    : 18\n",
      "PROGRESS: Starting Accelerated Gradient (FISTA)\n",
      "PROGRESS: --------------------------------------------------------\n",
      "PROGRESS: +-----------+----------+-----------+--------------+--------------------+---------------+\n",
      "PROGRESS: | Iteration | Passes   | Step size | Elapsed Time | Training-max_error | Training-rmse |\n",
      "PROGRESS: +-----------+----------+-----------+--------------+--------------------+---------------+\n",
      "PROGRESS: Tuning step size. First iteration could take longer than subsequent iterations.\n",
      "PROGRESS: | 1         | 2        | 0.000003  | 0.115710     | 6287419.109914     | 322430.039943 |\n",
      "PROGRESS: | 2         | 3        | 0.000003  | 0.130035     | 6004136.100045     | 303352.546466 |\n",
      "PROGRESS: | 3         | 4        | 0.000003  | 0.144049     | 5888889.774746     | 298370.631163 |\n",
      "PROGRESS: | 4         | 5        | 0.000003  | 0.158169     | 5813789.482948     | 293774.815357 |\n",
      "PROGRESS: | 5         | 6        | 0.000003  | 0.174655     | 5737581.635561     | 289374.949962 |\n",
      "PROGRESS: | 6         | 7        | 0.000003  | 0.190091     | 5655875.167473     | 285354.995257 |\n",
      "PROGRESS: +-----------+----------+-----------+--------------+--------------------+---------------+\n",
      "PROGRESS: TERMINATED: Iteration limit reached.\n",
      "PROGRESS: This model may not be optimal. To improve it, consider increasing `max_iterations`.\n",
      "PROGRESS: Linear regression:\n",
      "PROGRESS: --------------------------------------------------------\n",
      "PROGRESS: Number of examples          : 9761\n",
      "PROGRESS: Number of features          : 17\n",
      "PROGRESS: Number of unpacked features : 17\n",
      "PROGRESS: Number of coefficients    : 18\n",
      "PROGRESS: Starting Accelerated Gradient (FISTA)\n",
      "PROGRESS: --------------------------------------------------------\n",
      "PROGRESS: +-----------+----------+-----------+--------------+--------------------+---------------+\n",
      "PROGRESS: | Iteration | Passes   | Step size | Elapsed Time | Training-max_error | Training-rmse |\n",
      "PROGRESS: +-----------+----------+-----------+--------------+--------------------+---------------+\n",
      "PROGRESS: Tuning step size. First iteration could take longer than subsequent iterations.\n",
      "PROGRESS: | 1         | 2        | 0.000003  | 0.115255     | 6287429.491340     | 322431.089695 |\n",
      "PROGRESS: | 2         | 3        | 0.000003  | 0.129775     | 6004149.575378     | 303352.940082 |\n",
      "PROGRESS: | 3         | 4        | 0.000003  | 0.143701     | 5888905.510609     | 298370.891417 |\n",
      "PROGRESS: | 4         | 5        | 0.000003  | 0.157541     | 5813807.381396     | 293775.128315 |\n",
      "PROGRESS: | 5         | 6        | 0.000003  | 0.171740     | 5737601.788960     | 289375.308545 |\n",
      "PROGRESS: | 6         | 7        | 0.000003  | 0.185818     | 5655897.630825     | 285355.359658 |\n",
      "PROGRESS: +-----------+----------+-----------+--------------+--------------------+---------------+\n",
      "PROGRESS: TERMINATED: Iteration limit reached.\n",
      "PROGRESS: This model may not be optimal. To improve it, consider increasing `max_iterations`.\n",
      "PROGRESS: Linear regression:\n",
      "PROGRESS: --------------------------------------------------------\n",
      "PROGRESS: Number of examples          : 9761\n",
      "PROGRESS: Number of features          : 17\n",
      "PROGRESS: Number of unpacked features : 17\n",
      "PROGRESS: Number of coefficients    : 18\n",
      "PROGRESS: Starting Accelerated Gradient (FISTA)\n",
      "PROGRESS: --------------------------------------------------------\n",
      "PROGRESS: +-----------+----------+-----------+--------------+--------------------+---------------+\n",
      "PROGRESS: | Iteration | Passes   | Step size | Elapsed Time | Training-max_error | Training-rmse |\n",
      "PROGRESS: +-----------+----------+-----------+--------------+--------------------+---------------+\n",
      "PROGRESS: Tuning step size. First iteration could take longer than subsequent iterations.\n",
      "PROGRESS: | 1         | 2        | 0.000003  | 0.115649     | 6287462.320295     | 322434.409477 |\n",
      "PROGRESS: | 2         | 3        | 0.000003  | 0.130056     | 6004192.188124     | 303354.185095 |\n",
      "PROGRESS: | 3         | 4        | 0.000003  | 0.144192     | 5888955.271783     | 298371.714747 |\n",
      "PROGRESS: | 4         | 5        | 0.000003  | 0.158129     | 5813863.981264     | 293776.118347 |\n",
      "PROGRESS: | 5         | 6        | 0.000003  | 0.172243     | 5737665.519606     | 289376.442902 |\n",
      "PROGRESS: | 6         | 7        | 0.000003  | 0.186572     | 5655968.666186     | 285356.512471 |\n",
      "PROGRESS: +-----------+----------+-----------+--------------+--------------------+---------------+\n",
      "PROGRESS: TERMINATED: Iteration limit reached.\n",
      "PROGRESS: This model may not be optimal. To improve it, consider increasing `max_iterations`.\n",
      "PROGRESS: Linear regression:\n",
      "PROGRESS: --------------------------------------------------------\n",
      "PROGRESS: Number of examples          : 9761\n",
      "PROGRESS: Number of features          : 17\n",
      "PROGRESS: Number of unpacked features : 17\n",
      "PROGRESS: Number of coefficients    : 18\n",
      "PROGRESS: Starting Accelerated Gradient (FISTA)\n",
      "PROGRESS: --------------------------------------------------------\n",
      "PROGRESS: +-----------+----------+-----------+--------------+--------------------+---------------+\n",
      "PROGRESS: | Iteration | Passes   | Step size | Elapsed Time | Training-max_error | Training-rmse |\n",
      "PROGRESS: +-----------+----------+-----------+--------------+--------------------+---------------+\n",
      "PROGRESS: Tuning step size. First iteration could take longer than subsequent iterations.\n",
      "PROGRESS: | 1         | 2        | 0.000003  | 0.115647     | 6287566.134553     | 322444.909304 |\n",
      "PROGRESS: | 2         | 3        | 0.000003  | 0.129945     | 6004326.941447     | 303358.125094 |\n",
      "PROGRESS: | 3         | 4        | 0.000003  | 0.144019     | 5889112.630416     | 298374.321707 |\n",
      "PROGRESS: | 4         | 5        | 0.000003  | 0.158104     | 5814042.965743     | 293779.252821 |\n",
      "PROGRESS: | 5         | 6        | 0.000003  | 0.173034     | 5737867.053589     | 289380.034238 |\n",
      "PROGRESS: | 6         | 7        | 0.000003  | 0.187327     | 5656193.299699     | 285360.162764 |\n",
      "PROGRESS: +-----------+----------+-----------+--------------+--------------------+---------------+\n",
      "PROGRESS: TERMINATED: Iteration limit reached.\n",
      "PROGRESS: This model may not be optimal. To improve it, consider increasing `max_iterations`.\n",
      "PROGRESS: Linear regression:\n",
      "PROGRESS: --------------------------------------------------------\n",
      "PROGRESS: Number of examples          : 9761\n",
      "PROGRESS: Number of features          : 17\n",
      "PROGRESS: Number of unpacked features : 17\n",
      "PROGRESS: Number of coefficients    : 18\n",
      "PROGRESS: Starting Accelerated Gradient (FISTA)\n",
      "PROGRESS: --------------------------------------------------------\n",
      "PROGRESS: +-----------+----------+-----------+--------------+--------------------+---------------+\n",
      "PROGRESS: | Iteration | Passes   | Step size | Elapsed Time | Training-max_error | Training-rmse |\n",
      "PROGRESS: +-----------+----------+-----------+--------------+--------------------+---------------+\n",
      "PROGRESS: Tuning step size. First iteration could take longer than subsequent iterations.\n",
      "PROGRESS: | 1         | 2        | 0.000003  | 0.117250     | 6287894.424085     | 322478.130206 |\n",
      "PROGRESS: | 2         | 3        | 0.000003  | 0.131650     | 6004753.068898     | 303370.613672 |\n",
      "PROGRESS: | 3         | 4        | 0.000003  | 0.145625     | 5889610.242137     | 298382.599251 |\n",
      "PROGRESS: | 4         | 5        | 0.000003  | 0.159914     | 5814608.964400     | 293789.202075 |\n",
      "PROGRESS: | 5         | 6        | 0.000003  | 0.173805     | 5738504.360039     | 289391.432870 |\n",
      "PROGRESS: | 6         | 7        | 0.000003  | 0.187636     | 5656903.653287     | 285371.753783 |\n",
      "PROGRESS: +-----------+----------+-----------+--------------+--------------------+---------------+\n",
      "PROGRESS: TERMINATED: Iteration limit reached.\n",
      "PROGRESS: This model may not be optimal. To improve it, consider increasing `max_iterations`.\n",
      "PROGRESS: Linear regression:\n",
      "PROGRESS: --------------------------------------------------------\n",
      "PROGRESS: Number of examples          : 9761\n",
      "PROGRESS: Number of features          : 17\n",
      "PROGRESS: Number of unpacked features : 17\n",
      "PROGRESS: Number of coefficients    : 18\n",
      "PROGRESS: Starting Accelerated Gradient (FISTA)\n",
      "PROGRESS: --------------------------------------------------------\n",
      "PROGRESS: +-----------+----------+-----------+--------------+--------------------+---------------+\n",
      "PROGRESS: | Iteration | Passes   | Step size | Elapsed Time | Training-max_error | Training-rmse |\n",
      "PROGRESS: +-----------+----------+-----------+--------------+--------------------+---------------+\n",
      "PROGRESS: Tuning step size. First iteration could take longer than subsequent iterations.\n",
      "PROGRESS: | 1         | 2        | 0.000003  | 0.114727     | 6288932.566682     | 322583.359172 |\n",
      "PROGRESS: | 2         | 3        | 0.000003  | 0.130996     | 6006100.602140     | 303410.398042 |\n",
      "PROGRESS: | 3         | 4        | 0.000003  | 0.145942     | 5891183.828480     | 298409.111215 |\n",
      "PROGRESS: | 4         | 5        | 0.000003  | 0.160016     | 5816398.809211     | 293821.036075 |\n",
      "PROGRESS: | 5         | 6        | 0.000003  | 0.174333     | 5740519.699879     | 289427.896727 |\n",
      "PROGRESS: | 6         | 7        | 0.000003  | 0.188495     | 5659149.988446     | 285408.885485 |\n",
      "PROGRESS: +-----------+----------+-----------+--------------+--------------------+---------------+\n",
      "PROGRESS: TERMINATED: Iteration limit reached.\n",
      "PROGRESS: This model may not be optimal. To improve it, consider increasing `max_iterations`.\n"
     ]
    }
   ],
   "source": [
    "model = [0]*len(l1_penalty)\n",
    "for i in range(len(l1_penalty)):\n",
    "    model[i] = graphlab.linear_regression.create(training, target='price', features=all_features,\n",
    "                                              validation_set=None, \n",
    "                                              l2_penalty=0., l1_penalty=l1_penalty[i])"
   ]
  },
  {
   "cell_type": "code",
   "execution_count": 13,
   "metadata": {
    "collapsed": true
   },
   "outputs": [],
   "source": [
    "def get_residual_sum_of_square(model, data, outcome):\n",
    "    # First get the predictions\n",
    "    predictions = model.predict(data)\n",
    "    # Then compute the residuals/errors\n",
    "    residuals = predictions - outcome\n",
    "    # Then square and add them up\n",
    "    RSS = (residuals*residuals).sum()\n",
    "    return(RSS) "
   ]
  },
  {
   "cell_type": "code",
   "execution_count": 14,
   "metadata": {
    "collapsed": false
   },
   "outputs": [
    {
     "name": "stdout",
     "output_type": "stream",
     "text": [
      "6.25766285142e+14\n",
      "6.25766285362e+14\n",
      "6.25766286058e+14\n",
      "6.25766288257e+14\n",
      "6.25766295212e+14\n",
      "6.25766317206e+14\n",
      "6.25766386761e+14\n",
      "6.25766606749e+14\n",
      "6.25767302792e+14\n",
      "6.25769507644e+14\n",
      "6.25776517727e+14\n",
      "6.25799062845e+14\n",
      "6.25883719085e+14\n",
      "6.25766285142e+14 0\n"
     ]
    }
   ],
   "source": [
    "for i in range(len(l1_penalty)):\n",
    "    RSS = get_residual_sum_of_square(model[i], validation, validation['price'])\n",
    "    print RSS\n",
    "    if i == 0:\n",
    "        least_rss = RSS\n",
    "        NUM = 0\n",
    "    elif least_rss > RSS:\n",
    "        least_rss = RSS\n",
    "        NUM = i\n",
    "        \n",
    "print least_rss,NUM\n",
    "    "
   ]
  },
  {
   "cell_type": "markdown",
   "metadata": {},
   "source": [
    "*** QUIZ QUESTIONS ***\n",
    "1. What was the best value for the `l1_penalty`?\n",
    "2. What is the RSS on TEST data of the model with the best `l1_penalty`?"
   ]
  },
  {
   "cell_type": "code",
   "execution_count": 15,
   "metadata": {
    "collapsed": false
   },
   "outputs": [
    {
     "name": "stdout",
     "output_type": "stream",
     "text": [
      "1. 6.25766285142e+14\n",
      "2.\n",
      "1.56983602382e+14\n"
     ]
    }
   ],
   "source": [
    "print \"1. 6.25766285142e+14\"\n",
    "RSS = get_residual_sum_of_square(model[0], testing, testing['price'])\n",
    "print \"2.\" \n",
    "print RSS"
   ]
  },
  {
   "cell_type": "markdown",
   "metadata": {},
   "source": [
    "***QUIZ QUESTION***\n",
    "Also, using this value of L1 penalty, how many nonzero weights do you have?"
   ]
  },
  {
   "cell_type": "code",
   "execution_count": 16,
   "metadata": {
    "collapsed": false
   },
   "outputs": [
    {
     "name": "stdout",
     "output_type": "stream",
     "text": [
      "{'index': None, 'name': '(intercept)', 'value': 18993.427212770603}\n",
      "{'index': None, 'name': 'bedrooms', 'value': 7936.967679031267}\n",
      "{'index': None, 'name': 'bedrooms_square', 'value': 936.9933681933006}\n",
      "{'index': None, 'name': 'bathrooms', 'value': 25409.58893412067}\n",
      "{'index': None, 'name': 'sqft_living', 'value': 39.11513637970744}\n",
      "{'index': None, 'name': 'sqft_living_sqrt', 'value': 1124.6502128077152}\n",
      "{'index': None, 'name': 'sqft_lot', 'value': 0.003483618222990274}\n",
      "{'index': None, 'name': 'sqft_lot_sqrt', 'value': 148.25839101140795}\n",
      "{'index': None, 'name': 'floors', 'value': 21204.3354669502}\n",
      "{'index': None, 'name': 'floors_square', 'value': 12915.524336072429}\n",
      "{'index': None, 'name': 'waterfront', 'value': 601905.5945452707}\n",
      "{'index': None, 'name': 'view', 'value': 93312.8573118719}\n",
      "{'index': None, 'name': 'condition', 'value': 6609.035712447192}\n",
      "{'index': None, 'name': 'grade', 'value': 6206.9399918805775}\n",
      "{'index': None, 'name': 'sqft_above', 'value': 43.28705341933581}\n",
      "{'index': None, 'name': 'sqft_basement', 'value': 122.36782753411948}\n",
      "{'index': None, 'name': 'yr_built', 'value': 9.433635393724893}\n",
      "{'index': None, 'name': 'yr_renovated', 'value': 56.072003448822386}\n",
      "18\n"
     ]
    }
   ],
   "source": [
    "NUM = 0\n",
    "for i in range(18):\n",
    "    if model[0].get(\"coefficients\")[i]['value']!=0:\n",
    "        print model[0].get(\"coefficients\")[i]\n",
    "        NUM += 1\n",
    "print NUM"
   ]
  },
  {
   "cell_type": "markdown",
   "metadata": {},
   "source": [
    "# Limit the number of nonzero weights\n",
    "\n",
    "What if we absolutely wanted to limit ourselves to, say, 7 features? This may be important if we want to derive \"a rule of thumb\" --- an interpretable model that has only a few features in them."
   ]
  },
  {
   "cell_type": "markdown",
   "metadata": {},
   "source": [
    "In this section, you are going to implement a simple, two phase procedure to achive this goal:\n",
    "1. Explore a large range of `l1_penalty` values to find a narrow region of `l1_penalty` values where models are likely to have the desired number of non-zero weights.\n",
    "2. Further explore the narrow region you found to find a good value for `l1_penalty` that achieves the desired sparsity.  Here, we will again use a validation set to choose the best value for `l1_penalty`."
   ]
  },
  {
   "cell_type": "code",
   "execution_count": 17,
   "metadata": {
    "collapsed": true
   },
   "outputs": [],
   "source": [
    "max_nonzeros = 7"
   ]
  },
  {
   "cell_type": "markdown",
   "metadata": {},
   "source": [
    "## Exploring the larger range of values to find a narrow range with the desired sparsity\n",
    "\n",
    "Let's define a wide range of possible `l1_penalty_values`:"
   ]
  },
  {
   "cell_type": "code",
   "execution_count": 18,
   "metadata": {
    "collapsed": true
   },
   "outputs": [],
   "source": [
    "l1_penalty_values = np.logspace(8, 10, num=20)"
   ]
  },
  {
   "cell_type": "markdown",
   "metadata": {},
   "source": [
    "Now, implement a loop that search through this space of possible `l1_penalty` values:\n",
    "\n",
    "* For `l1_penalty` in `np.logspace(8, 10, num=20)`:\n",
    "    * Fit a regression model with a given `l1_penalty` on TRAIN data. Specify `l1_penalty=l1_penalty` and `l2_penalty=0.` in the parameter list. When you call `linear_regression.create()` make sure you set `validation_set = None`\n",
    "    * Extract the weights of the model and count the number of nonzeros. Save the number of nonzeros to a list.\n",
    "        * *Hint: `model['coefficients']['value']` gives you an SArray with the parameters you learned.  If you call the method `.nnz()` on it, you will find the number of non-zero parameters!* "
   ]
  },
  {
   "cell_type": "code",
   "execution_count": 19,
   "metadata": {
    "collapsed": false
   },
   "outputs": [
    {
     "name": "stdout",
     "output_type": "stream",
     "text": [
      "PROGRESS: Linear regression:\n",
      "PROGRESS: --------------------------------------------------------\n",
      "PROGRESS: Number of examples          : 9761\n",
      "PROGRESS: Number of features          : 17\n",
      "PROGRESS: Number of unpacked features : 17\n",
      "PROGRESS: Number of coefficients    : 18\n",
      "PROGRESS: Starting Accelerated Gradient (FISTA)\n",
      "PROGRESS: --------------------------------------------------------\n",
      "PROGRESS: +-----------+----------+-----------+--------------+--------------------+---------------+\n",
      "PROGRESS: | Iteration | Passes   | Step size | Elapsed Time | Training-max_error | Training-rmse |\n",
      "PROGRESS: +-----------+----------+-----------+--------------+--------------------+---------------+\n",
      "PROGRESS: Tuning step size. First iteration could take longer than subsequent iterations.\n",
      "PROGRESS: | 1         | 2        | 0.000003  | 0.114515     | 6302596.887972     | 323993.114447 |\n",
      "PROGRESS: | 2         | 3        | 0.000003  | 0.129410     | 6023837.209073     | 303975.326597 |\n",
      "PROGRESS: | 3         | 4        | 0.000003  | 0.143358     | 5911895.809122     | 298805.600064 |\n",
      "PROGRESS: | 4         | 5        | 0.000003  | 0.159707     | 5839957.243889     | 294292.598204 |\n",
      "PROGRESS: | 5         | 6        | 0.000003  | 0.175465     | 5767046.162784     | 289966.959726 |\n",
      "PROGRESS: | 6         | 7        | 0.000003  | 0.192931     | 5688716.875912     | 285965.139010 |\n",
      "PROGRESS: +-----------+----------+-----------+--------------+--------------------+---------------+\n",
      "PROGRESS: TERMINATED: Iteration limit reached.\n",
      "PROGRESS: This model may not be optimal. To improve it, consider increasing `max_iterations`.\n",
      "PROGRESS: Linear regression:\n",
      "PROGRESS: --------------------------------------------------------\n",
      "PROGRESS: Number of examples          : 9761\n",
      "PROGRESS: Number of features          : 17\n",
      "PROGRESS: Number of unpacked features : 17\n",
      "PROGRESS: Number of coefficients    : 18\n",
      "PROGRESS: Starting Accelerated Gradient (FISTA)\n",
      "PROGRESS: --------------------------------------------------------\n",
      "PROGRESS: +-----------+----------+-----------+--------------+--------------------+---------------+\n",
      "PROGRESS: | Iteration | Passes   | Step size | Elapsed Time | Training-max_error | Training-rmse |\n",
      "PROGRESS: +-----------+----------+-----------+--------------+--------------------+---------------+\n",
      "PROGRESS: Tuning step size. First iteration could take longer than subsequent iterations.\n",
      "PROGRESS: | 1         | 2        | 0.000003  | 0.115139     | 6306761.089277     | 324431.811110 |\n",
      "PROGRESS: | 2         | 3        | 0.000003  | 0.129272     | 6029242.439247     | 304162.702383 |\n",
      "PROGRESS: | 3         | 4        | 0.000003  | 0.142998     | 5918207.784303     | 298943.962355 |\n",
      "PROGRESS: | 4         | 5        | 0.000003  | 0.157002     | 5847136.675810     | 294455.684490 |\n",
      "PROGRESS: | 5         | 6        | 0.000003  | 0.171126     | 5775130.101176     | 290153.028407 |\n",
      "PROGRESS: | 6         | 7        | 0.000003  | 0.185107     | 5697727.383553     | 286159.539614 |\n",
      "PROGRESS: +-----------+----------+-----------+--------------+--------------------+---------------+\n",
      "PROGRESS: TERMINATED: Iteration limit reached.\n",
      "PROGRESS: This model may not be optimal. To improve it, consider increasing `max_iterations`.\n",
      "PROGRESS: Linear regression:\n",
      "PROGRESS: --------------------------------------------------------\n",
      "PROGRESS: Number of examples          : 9761\n",
      "PROGRESS: Number of features          : 17\n",
      "PROGRESS: Number of unpacked features : 17\n",
      "PROGRESS: Number of coefficients    : 18\n",
      "PROGRESS: Starting Accelerated Gradient (FISTA)\n",
      "PROGRESS: --------------------------------------------------------\n",
      "PROGRESS: +-----------+----------+-----------+--------------+--------------------+---------------+\n",
      "PROGRESS: | Iteration | Passes   | Step size | Elapsed Time | Training-max_error | Training-rmse |\n",
      "PROGRESS: +-----------+----------+-----------+--------------+--------------------+---------------+\n",
      "PROGRESS: Tuning step size. First iteration could take longer than subsequent iterations.\n",
      "PROGRESS: | 1         | 2        | 0.000003  | 0.123639     | 6312067.428647     | 324996.927681 |\n",
      "PROGRESS: | 2         | 3        | 0.000003  | 0.138355     | 6036130.191201     | 304411.734396 |\n",
      "PROGRESS: | 3         | 4        | 0.000003  | 0.152546     | 5926250.979130     | 299132.112018 |\n",
      "PROGRESS: | 4         | 5        | 0.000003  | 0.166549     | 5856285.249441     | 294676.578872 |\n",
      "PROGRESS: | 5         | 6        | 0.000003  | 0.180718     | 5785431.265169     | 290404.829180 |\n",
      "PROGRESS: | 6         | 7        | 0.000003  | 0.195084     | 5709209.251967     | 286424.040727 |\n",
      "PROGRESS: +-----------+----------+-----------+--------------+--------------------+---------------+\n",
      "PROGRESS: TERMINATED: Iteration limit reached.\n",
      "PROGRESS: This model may not be optimal. To improve it, consider increasing `max_iterations`.\n",
      "PROGRESS: Linear regression:\n",
      "PROGRESS: --------------------------------------------------------\n",
      "PROGRESS: Number of examples          : 9761\n",
      "PROGRESS: Number of features          : 17\n",
      "PROGRESS: Number of unpacked features : 17\n",
      "PROGRESS: Number of coefficients    : 18\n",
      "PROGRESS: Starting Accelerated Gradient (FISTA)\n",
      "PROGRESS: --------------------------------------------------------\n",
      "PROGRESS: +-----------+----------+-----------+--------------+--------------------+---------------+\n",
      "PROGRESS: | Iteration | Passes   | Step size | Elapsed Time | Training-max_error | Training-rmse |\n",
      "PROGRESS: +-----------+----------+-----------+--------------+--------------------+---------------+\n",
      "PROGRESS: Tuning step size. First iteration could take longer than subsequent iterations.\n",
      "PROGRESS: | 1         | 2        | 0.000003  | 0.116161     | 6318829.161558     | 325726.887556 |\n",
      "PROGRESS: | 2         | 3        | 0.000003  | 0.130294     | 6044907.077830     | 304745.693519 |\n",
      "PROGRESS: | 3         | 4        | 0.000003  | 0.146274     | 5936500.217141     | 299391.051314 |\n",
      "PROGRESS: | 4         | 5        | 0.000003  | 0.160311     | 5867943.043467     | 294979.244899 |\n",
      "PROGRESS: | 5         | 6        | 0.000003  | 0.178675     | 5798557.775695     | 290749.495050 |\n",
      "PROGRESS: | 6         | 7        | 0.000003  | 0.192769     | 5723840.304020     | 286788.259115 |\n",
      "PROGRESS: +-----------+----------+-----------+--------------+--------------------+---------------+\n",
      "PROGRESS: TERMINATED: Iteration limit reached.\n",
      "PROGRESS: This model may not be optimal. To improve it, consider increasing `max_iterations`.\n",
      "PROGRESS: Linear regression:\n",
      "PROGRESS: --------------------------------------------------------\n",
      "PROGRESS: Number of examples          : 9761\n",
      "PROGRESS: Number of features          : 17\n",
      "PROGRESS: Number of unpacked features : 17\n",
      "PROGRESS: Number of coefficients    : 18\n",
      "PROGRESS: Starting Accelerated Gradient (FISTA)\n",
      "PROGRESS: --------------------------------------------------------\n",
      "PROGRESS: +-----------+----------+-----------+--------------+--------------------+---------------+\n",
      "PROGRESS: | Iteration | Passes   | Step size | Elapsed Time | Training-max_error | Training-rmse |\n",
      "PROGRESS: +-----------+----------+-----------+--------------+--------------------+---------------+\n",
      "PROGRESS: Tuning step size. First iteration could take longer than subsequent iterations.\n",
      "PROGRESS: | 1         | 2        | 0.000003  | 0.114887     | 6327445.469597     | 326672.935878 |\n",
      "PROGRESS: | 2         | 3        | 0.000003  | 0.129321     | 6056091.246122     | 305198.151982 |\n",
      "PROGRESS: | 3         | 4        | 0.000003  | 0.143906     | 5949560.566172     | 299752.080188 |\n",
      "PROGRESS: | 4         | 5        | 0.000003  | 0.158513     | 5882798.280387     | 295399.217084 |\n",
      "PROGRESS: | 5         | 6        | 0.000003  | 0.172738     | 5815284.561515     | 291227.202999 |\n",
      "PROGRESS: | 6         | 7        | 0.000003  | 0.186838     | 5742484.289679     | 287296.320924 |\n",
      "PROGRESS: +-----------+----------+-----------+--------------+--------------------+---------------+\n",
      "PROGRESS: TERMINATED: Iteration limit reached.\n",
      "PROGRESS: This model may not be optimal. To improve it, consider increasing `max_iterations`.\n",
      "PROGRESS: Linear regression:\n",
      "PROGRESS: --------------------------------------------------------\n",
      "PROGRESS: Number of examples          : 9761\n",
      "PROGRESS: Number of features          : 17\n",
      "PROGRESS: Number of unpacked features : 17\n",
      "PROGRESS: Number of coefficients    : 18\n",
      "PROGRESS: Starting Accelerated Gradient (FISTA)\n",
      "PROGRESS: --------------------------------------------------------\n",
      "PROGRESS: +-----------+----------+-----------+--------------+--------------------+---------------+\n",
      "PROGRESS: | Iteration | Passes   | Step size | Elapsed Time | Training-max_error | Training-rmse |\n",
      "PROGRESS: +-----------+----------+-----------+--------------+--------------------+---------------+\n",
      "PROGRESS: Tuning step size. First iteration could take longer than subsequent iterations.\n",
      "PROGRESS: | 1         | 2        | 0.000003  | 0.123279     | 6338425.015323     | 327904.016823 |\n",
      "PROGRESS: | 2         | 3        | 0.000003  | 0.137417     | 6070342.951911     | 305818.193076 |\n",
      "PROGRESS: | 3         | 4        | 0.000003  | 0.151367     | 5966203.042130     | 300262.391571 |\n",
      "PROGRESS: | 4         | 5        | 0.000003  | 0.165444     | 5901727.937067     | 295989.815933 |\n",
      "PROGRESS: | 5         | 6        | 0.000003  | 0.180438     | 5836599.086125     | 291898.147485 |\n",
      "PROGRESS: | 6         | 7        | 0.000003  | 0.194880     | 5766241.854070     | 288014.702465 |\n",
      "PROGRESS: +-----------+----------+-----------+--------------+--------------------+---------------+\n",
      "PROGRESS: TERMINATED: Iteration limit reached.\n",
      "PROGRESS: This model may not be optimal. To improve it, consider increasing `max_iterations`.\n",
      "PROGRESS: Linear regression:\n",
      "PROGRESS: --------------------------------------------------------\n",
      "PROGRESS: Number of examples          : 9761\n",
      "PROGRESS: Number of features          : 17\n",
      "PROGRESS: Number of unpacked features : 17\n",
      "PROGRESS: Number of coefficients    : 18\n",
      "PROGRESS: Starting Accelerated Gradient (FISTA)\n",
      "PROGRESS: --------------------------------------------------------\n",
      "PROGRESS: +-----------+----------+-----------+--------------+--------------------+---------------+\n",
      "PROGRESS: | Iteration | Passes   | Step size | Elapsed Time | Training-max_error | Training-rmse |\n",
      "PROGRESS: +-----------+----------+-----------+--------------+--------------------+---------------+\n",
      "PROGRESS: Tuning step size. First iteration could take longer than subsequent iterations.\n",
      "PROGRESS: | 1         | 2        | 0.000003  | 0.117433     | 6352415.978265     | 329513.773176 |\n",
      "PROGRESS: | 2         | 3        | 0.000003  | 0.131680     | 6088503.547309     | 306678.464467 |\n",
      "PROGRESS: | 3         | 4        | 0.000003  | 0.145680     | 5987410.136686     | 300993.852916 |\n",
      "PROGRESS: | 4         | 5        | 0.000003  | 0.159881     | 5925849.529320     | 296831.866711 |\n",
      "PROGRESS: | 5         | 6        | 0.000003  | 0.174103     | 5863759.656463     | 292853.418793 |\n",
      "PROGRESS: | 6         | 7        | 0.000003  | 0.188578     | 5796515.529440     | 289044.471466 |\n",
      "PROGRESS: +-----------+----------+-----------+--------------+--------------------+---------------+\n",
      "PROGRESS: TERMINATED: Iteration limit reached.\n",
      "PROGRESS: This model may not be optimal. To improve it, consider increasing `max_iterations`.\n",
      "PROGRESS: Linear regression:\n",
      "PROGRESS: --------------------------------------------------------\n",
      "PROGRESS: Number of examples          : 9761\n",
      "PROGRESS: Number of features          : 17\n",
      "PROGRESS: Number of unpacked features : 17\n",
      "PROGRESS: Number of coefficients    : 18\n",
      "PROGRESS: Starting Accelerated Gradient (FISTA)\n",
      "PROGRESS: --------------------------------------------------------\n",
      "PROGRESS: +-----------+----------+-----------+--------------+--------------------+---------------+\n",
      "PROGRESS: | Iteration | Passes   | Step size | Elapsed Time | Training-max_error | Training-rmse |\n",
      "PROGRESS: +-----------+----------+-----------+--------------+--------------------+---------------+\n",
      "PROGRESS: Tuning step size. First iteration could take longer than subsequent iterations.\n",
      "PROGRESS: | 1         | 2        | 0.000003  | 0.120626     | 6370244.310167     | 331630.660676 |\n",
      "PROGRESS: | 2         | 3        | 0.000003  | 0.134918     | 6111645.136891     | 307887.639691 |\n",
      "PROGRESS: | 3         | 4        | 0.000003  | 0.149221     | 6014433.803461     | 302056.769305 |\n",
      "PROGRESS: | 4         | 5        | 0.000003  | 0.163609     | 5956587.067149     | 298048.868696 |\n",
      "PROGRESS: | 5         | 6        | 0.000003  | 0.177653     | 5898369.687568     | 294231.926395 |\n",
      "PROGRESS: | 6         | 7        | 0.000003  | 0.193800     | 5835068.031486     | 290539.467795 |\n",
      "PROGRESS: +-----------+----------+-----------+--------------+--------------------+---------------+\n",
      "PROGRESS: TERMINATED: Iteration limit reached.\n",
      "PROGRESS: This model may not be optimal. To improve it, consider increasing `max_iterations`.\n",
      "PROGRESS: Linear regression:\n",
      "PROGRESS: --------------------------------------------------------\n",
      "PROGRESS: Number of examples          : 9761\n",
      "PROGRESS: Number of features          : 17\n",
      "PROGRESS: Number of unpacked features : 17\n",
      "PROGRESS: Number of coefficients    : 18\n",
      "PROGRESS: Starting Accelerated Gradient (FISTA)\n",
      "PROGRESS: --------------------------------------------------------\n",
      "PROGRESS: +-----------+----------+-----------+--------------+--------------------+---------------+\n",
      "PROGRESS: | Iteration | Passes   | Step size | Elapsed Time | Training-max_error | Training-rmse |\n",
      "PROGRESS: +-----------+----------+-----------+--------------+--------------------+---------------+\n",
      "PROGRESS: Tuning step size. First iteration could take longer than subsequent iterations.\n",
      "PROGRESS: | 1         | 2        | 0.000003  | 0.119876     | 6392962.501428     | 334432.629813 |\n",
      "PROGRESS: | 2         | 3        | 0.000003  | 0.136315     | 6141133.877684     | 309609.652192 |\n",
      "PROGRESS: | 3         | 4        | 0.000003  | 0.150648     | 6048869.376781     | 303621.347701 |\n",
      "PROGRESS: | 4         | 5        | 0.000003  | 0.164780     | 5995755.132177     | 299830.533427 |\n",
      "PROGRESS: | 5         | 6        | 0.000003  | 0.180039     | 5942472.372582     | 296246.537804 |\n",
      "PROGRESS: | 6         | 7        | 0.000003  | 0.194595     | 5882772.472167     | 292655.514067 |\n",
      "PROGRESS: +-----------+----------+-----------+--------------+--------------------+---------------+\n",
      "PROGRESS: TERMINATED: Iteration limit reached.\n",
      "PROGRESS: This model may not be optimal. To improve it, consider increasing `max_iterations`.\n",
      "PROGRESS: Linear regression:\n",
      "PROGRESS: --------------------------------------------------------\n",
      "PROGRESS: Number of examples          : 9761\n",
      "PROGRESS: Number of features          : 17\n",
      "PROGRESS: Number of unpacked features : 17\n",
      "PROGRESS: Number of coefficients    : 18\n",
      "PROGRESS: Starting Accelerated Gradient (FISTA)\n",
      "PROGRESS: --------------------------------------------------------\n",
      "PROGRESS: +-----------+----------+-----------+--------------+--------------------+---------------+\n",
      "PROGRESS: | Iteration | Passes   | Step size | Elapsed Time | Training-max_error | Training-rmse |\n",
      "PROGRESS: +-----------+----------+-----------+--------------+--------------------+---------------+\n",
      "PROGRESS: Tuning step size. First iteration could take longer than subsequent iterations.\n",
      "PROGRESS: | 1         | 2        | 0.000003  | 0.113937     | 6421911.739799     | 338168.430249 |\n",
      "PROGRESS: | 2         | 3        | 0.000003  | 0.128310     | 6178710.662590     | 312093.147503 |\n",
      "PROGRESS: | 3         | 4        | 0.000003  | 0.142264     | 6092749.790017     | 305950.822078 |\n",
      "PROGRESS: | 4         | 5        | 0.000003  | 0.156244     | 6045666.044451     | 302468.872046 |\n",
      "PROGRESS: | 5         | 6        | 0.000003  | 0.171168     | 5998277.020726     | 299195.437483 |\n",
      "PROGRESS: | 6         | 7        | 0.000003  | 0.185307     | 5944444.613403     | 295775.972513 |\n",
      "PROGRESS: +-----------+----------+-----------+--------------+--------------------+---------------+\n",
      "PROGRESS: TERMINATED: Iteration limit reached.\n",
      "PROGRESS: This model may not be optimal. To improve it, consider increasing `max_iterations`.\n",
      "PROGRESS: Linear regression:\n",
      "PROGRESS: --------------------------------------------------------\n",
      "PROGRESS: Number of examples          : 9761\n",
      "PROGRESS: Number of features          : 17\n",
      "PROGRESS: Number of unpacked features : 17\n",
      "PROGRESS: Number of coefficients    : 18\n",
      "PROGRESS: Starting Accelerated Gradient (FISTA)\n",
      "PROGRESS: --------------------------------------------------------\n",
      "PROGRESS: +-----------+----------+-----------+--------------+--------------------+---------------+\n",
      "PROGRESS: | Iteration | Passes   | Step size | Elapsed Time | Training-max_error | Training-rmse |\n",
      "PROGRESS: +-----------+----------+-----------+--------------+--------------------+---------------+\n",
      "PROGRESS: Tuning step size. First iteration could take longer than subsequent iterations.\n",
      "PROGRESS: | 1         | 2        | 0.000003  | 0.118137     | 6458801.015264     | 343188.313914 |\n",
      "PROGRESS: | 2         | 3        | 0.000003  | 0.132587     | 6226593.800368     | 315715.881133 |\n",
      "PROGRESS: | 3         | 4        | 0.000003  | 0.147175     | 6148665.480461     | 309451.624488 |\n",
      "PROGRESS: | 4         | 5        | 0.000003  | 0.161168     | 6109266.245878     | 306412.359795 |\n",
      "PROGRESS: | 5         | 6        | 0.000003  | 0.175271     | 6067941.501592     | 303417.317296 |\n",
      "PROGRESS: | 6         | 7        | 0.000003  | 0.191648     | 6019163.317913     | 300393.085687 |\n",
      "PROGRESS: +-----------+----------+-----------+--------------+--------------------+---------------+\n",
      "PROGRESS: TERMINATED: Iteration limit reached.\n",
      "PROGRESS: This model may not be optimal. To improve it, consider increasing `max_iterations`.\n",
      "PROGRESS: Linear regression:\n",
      "PROGRESS: --------------------------------------------------------\n",
      "PROGRESS: Number of examples          : 9761\n",
      "PROGRESS: Number of features          : 17\n",
      "PROGRESS: Number of unpacked features : 17\n",
      "PROGRESS: Number of coefficients    : 18\n",
      "PROGRESS: Starting Accelerated Gradient (FISTA)\n",
      "PROGRESS: --------------------------------------------------------\n",
      "PROGRESS: +-----------+----------+-----------+--------------+--------------------+---------------+\n",
      "PROGRESS: | Iteration | Passes   | Step size | Elapsed Time | Training-max_error | Training-rmse |\n",
      "PROGRESS: +-----------+----------+-----------+--------------+--------------------+---------------+\n",
      "PROGRESS: Tuning step size. First iteration could take longer than subsequent iterations.\n",
      "PROGRESS: | 1         | 2        | 0.000003  | 0.114776     | 6505808.107267     | 349987.699359 |\n",
      "PROGRESS: | 2         | 3        | 0.000003  | 0.129072     | 6287610.099403     | 321049.939717 |\n",
      "PROGRESS: | 3         | 4        | 0.000003  | 0.143066     | 6219917.462832     | 314747.103160 |\n",
      "PROGRESS: | 4         | 5        | 0.000003  | 0.157194     | 6186864.205766     | 312133.200443 |\n",
      "PROGRESS: | 5         | 6        | 0.000003  | 0.171282     | 6141049.702542     | 309268.413008 |\n",
      "PROGRESS: | 6         | 7        | 0.000003  | 0.187339     | 6098090.379557     | 306911.599029 |\n",
      "PROGRESS: +-----------+----------+-----------+--------------+--------------------+---------------+\n",
      "PROGRESS: TERMINATED: Iteration limit reached.\n",
      "PROGRESS: This model may not be optimal. To improve it, consider increasing `max_iterations`.\n",
      "PROGRESS: Linear regression:\n",
      "PROGRESS: --------------------------------------------------------\n",
      "PROGRESS: Number of examples          : 9761\n",
      "PROGRESS: Number of features          : 17\n",
      "PROGRESS: Number of unpacked features : 17\n",
      "PROGRESS: Number of coefficients    : 18\n",
      "PROGRESS: Starting Accelerated Gradient (FISTA)\n",
      "PROGRESS: --------------------------------------------------------\n",
      "PROGRESS: +-----------+----------+-----------+--------------+--------------------+---------------+\n",
      "PROGRESS: | Iteration | Passes   | Step size | Elapsed Time | Training-max_error | Training-rmse |\n",
      "PROGRESS: +-----------+----------+-----------+--------------+--------------------+---------------+\n",
      "PROGRESS: Tuning step size. First iteration could take longer than subsequent iterations.\n",
      "PROGRESS: | 1         | 2        | 0.000003  | 0.115494     | 6565708.060916     | 359267.674436 |\n",
      "PROGRESS: | 2         | 3        | 0.000003  | 0.130016     | 6365361.632804     | 328953.510730 |\n",
      "PROGRESS: | 3         | 4        | 0.000003  | 0.144157     | 6305829.246141     | 322613.170450 |\n",
      "PROGRESS: | 4         | 5        | 0.000003  | 0.158399     | 6265428.838674     | 319852.473118 |\n",
      "PROGRESS: | 5         | 6        | 0.000003  | 0.172603     | 6233853.106449     | 318320.600901 |\n",
      "PROGRESS: | 6         | 7        | 0.000003  | 0.188809     | 6199198.857716     | 316732.370565 |\n",
      "PROGRESS: +-----------+----------+-----------+--------------+--------------------+---------------+\n",
      "PROGRESS: TERMINATED: Iteration limit reached.\n",
      "PROGRESS: This model may not be optimal. To improve it, consider increasing `max_iterations`.\n",
      "PROGRESS: Linear regression:\n",
      "PROGRESS: --------------------------------------------------------\n",
      "PROGRESS: Number of examples          : 9761\n",
      "PROGRESS: Number of features          : 17\n",
      "PROGRESS: Number of unpacked features : 17\n",
      "PROGRESS: Number of coefficients    : 18\n",
      "PROGRESS: Starting Accelerated Gradient (FISTA)\n",
      "PROGRESS: --------------------------------------------------------\n",
      "PROGRESS: +-----------+----------+-----------+--------------+--------------------+---------------+\n",
      "PROGRESS: | Iteration | Passes   | Step size | Elapsed Time | Training-max_error | Training-rmse |\n",
      "PROGRESS: +-----------+----------+-----------+--------------+--------------------+---------------+\n",
      "PROGRESS: Tuning step size. First iteration could take longer than subsequent iterations.\n",
      "PROGRESS: | 1         | 2        | 0.000003  | 0.118605     | 6642037.071382     | 372015.681824 |\n",
      "PROGRESS: | 2         | 3        | 0.000003  | 0.132968     | 6461738.956416     | 340588.423328 |\n",
      "PROGRESS: | 3         | 4        | 0.000003  | 0.147806     | 6398392.723924     | 333431.863633 |\n",
      "PROGRESS: | 4         | 5        | 0.000003  | 0.162267     | 6371877.122886     | 331286.359425 |\n",
      "PROGRESS: | 5         | 6        | 0.000003  | 0.176358     | 6353136.654069     | 330421.269864 |\n",
      "PROGRESS: | 6         | 7        | 0.000003  | 0.190400     | 6330612.934807     | 329296.764297 |\n",
      "PROGRESS: +-----------+----------+-----------+--------------+--------------------+---------------+\n",
      "PROGRESS: TERMINATED: Iteration limit reached.\n",
      "PROGRESS: This model may not be optimal. To improve it, consider increasing `max_iterations`.\n",
      "PROGRESS: Linear regression:\n",
      "PROGRESS: --------------------------------------------------------\n",
      "PROGRESS: Number of examples          : 9761\n",
      "PROGRESS: Number of features          : 17\n",
      "PROGRESS: Number of unpacked features : 17\n",
      "PROGRESS: Number of coefficients    : 18\n",
      "PROGRESS: Starting Accelerated Gradient (FISTA)\n",
      "PROGRESS: --------------------------------------------------------\n",
      "PROGRESS: +-----------+----------+-----------+--------------+--------------------+---------------+\n",
      "PROGRESS: | Iteration | Passes   | Step size | Elapsed Time | Training-max_error | Training-rmse |\n",
      "PROGRESS: +-----------+----------+-----------+--------------+--------------------+---------------+\n",
      "PROGRESS: Tuning step size. First iteration could take longer than subsequent iterations.\n",
      "PROGRESS: | 1         | 2        | 0.000003  | 0.121663     | 6739301.231007     | 389607.085142 |\n",
      "PROGRESS: | 2         | 3        | 0.000003  | 0.137629     | 6569297.382654     | 356355.616933 |\n",
      "PROGRESS: | 3         | 4        | 0.000003  | 0.151994     | 6519180.189446     | 348232.602946 |\n",
      "PROGRESS: | 4         | 5        | 0.000003  | 0.168701     | 6511771.934086     | 347519.257327 |\n",
      "PROGRESS: | 5         | 6        | 0.000003  | 0.183000     | 6508236.398022     | 347641.774942 |\n",
      "PROGRESS: | 6         | 7        | 0.000003  | 0.199257     | 6496515.714757     | 346711.084406 |\n",
      "PROGRESS: +-----------+----------+-----------+--------------+--------------------+---------------+\n",
      "PROGRESS: TERMINATED: Iteration limit reached.\n",
      "PROGRESS: This model may not be optimal. To improve it, consider increasing `max_iterations`.\n",
      "PROGRESS: Linear regression:\n",
      "PROGRESS: --------------------------------------------------------\n",
      "PROGRESS: Number of examples          : 9761\n",
      "PROGRESS: Number of features          : 17\n",
      "PROGRESS: Number of unpacked features : 17\n",
      "PROGRESS: Number of coefficients    : 18\n",
      "PROGRESS: Starting Accelerated Gradient (FISTA)\n",
      "PROGRESS: --------------------------------------------------------\n",
      "PROGRESS: +-----------+----------+-----------+--------------+--------------------+---------------+\n",
      "PROGRESS: | Iteration | Passes   | Step size | Elapsed Time | Training-max_error | Training-rmse |\n",
      "PROGRESS: +-----------+----------+-----------+--------------+--------------------+---------------+\n",
      "PROGRESS: Tuning step size. First iteration could take longer than subsequent iterations.\n",
      "PROGRESS: | 1         | 2        | 0.000003  | 0.115790     | 6851251.348758     | 412576.866347 |\n",
      "PROGRESS: | 2         | 3        | 0.000003  | 0.129986     | 6705927.418436     | 378624.562082 |\n",
      "PROGRESS: | 3         | 4        | 0.000003  | 0.144110     | 6678759.248861     | 371401.977561 |\n",
      "PROGRESS: | 4         | 5        | 0.000003  | 0.158141     | 6689839.793283     | 371772.510021 |\n",
      "PROGRESS: | 5         | 6        | 0.000003  | 0.172462     | 6700050.222874     | 372113.713871 |\n",
      "PROGRESS: | 6         | 7        | 0.000003  | 0.187106     | 6697293.370032     | 370685.051067 |\n",
      "PROGRESS: +-----------+----------+-----------+--------------+--------------------+---------------+\n",
      "PROGRESS: TERMINATED: Iteration limit reached.\n",
      "PROGRESS: This model may not be optimal. To improve it, consider increasing `max_iterations`.\n",
      "PROGRESS: Linear regression:\n",
      "PROGRESS: --------------------------------------------------------\n",
      "PROGRESS: Number of examples          : 9761\n",
      "PROGRESS: Number of features          : 17\n",
      "PROGRESS: Number of unpacked features : 17\n",
      "PROGRESS: Number of coefficients    : 18\n",
      "PROGRESS: Starting Accelerated Gradient (FISTA)\n",
      "PROGRESS: --------------------------------------------------------\n",
      "PROGRESS: +-----------+----------+-----------+--------------+--------------------+---------------+\n",
      "PROGRESS: | Iteration | Passes   | Step size | Elapsed Time | Training-max_error | Training-rmse |\n",
      "PROGRESS: +-----------+----------+-----------+--------------+--------------------+---------------+\n",
      "PROGRESS: Tuning step size. First iteration could take longer than subsequent iterations.\n",
      "PROGRESS: | 1         | 2        | 0.000003  | 0.117658     | 6990727.771524     | 443765.694135 |\n",
      "PROGRESS: | 2         | 3        | 0.000003  | 0.132195     | 6881811.580352     | 411414.484829 |\n",
      "PROGRESS: | 3         | 4        | 0.000003  | 0.146846     | 6872119.637764     | 404347.406375 |\n",
      "PROGRESS: | 4         | 5        | 0.000003  | 0.161212     | 6884564.579949     | 402804.042129 |\n",
      "PROGRESS: | 5         | 6        | 0.000003  | 0.175421     | 6884279.257633     | 400745.316819 |\n",
      "PROGRESS: | 6         | 7        | 0.000003  | 0.189509     | 6869773.133183     | 397237.306904 |\n",
      "PROGRESS: +-----------+----------+-----------+--------------+--------------------+---------------+\n",
      "PROGRESS: TERMINATED: Iteration limit reached.\n",
      "PROGRESS: This model may not be optimal. To improve it, consider increasing `max_iterations`.\n",
      "PROGRESS: Linear regression:\n",
      "PROGRESS: --------------------------------------------------------\n",
      "PROGRESS: Number of examples          : 9761\n",
      "PROGRESS: Number of features          : 17\n",
      "PROGRESS: Number of unpacked features : 17\n",
      "PROGRESS: Number of coefficients    : 18\n",
      "PROGRESS: Starting Accelerated Gradient (FISTA)\n",
      "PROGRESS: --------------------------------------------------------\n",
      "PROGRESS: +-----------+----------+-----------+--------------+--------------------+---------------+\n",
      "PROGRESS: | Iteration | Passes   | Step size | Elapsed Time | Training-max_error | Training-rmse |\n",
      "PROGRESS: +-----------+----------+-----------+--------------+--------------------+---------------+\n",
      "PROGRESS: Tuning step size. First iteration could take longer than subsequent iterations.\n",
      "PROGRESS: | 1         | 2        | 0.000003  | 0.115497     | 7165064.642471     | 485718.879258 |\n",
      "PROGRESS: | 2         | 3        | 0.000003  | 0.130920     | 7086725.698544     | 456087.127286 |\n",
      "PROGRESS: | 3         | 4        | 0.000003  | 0.144882     | 7075577.209652     | 446853.928812 |\n",
      "PROGRESS: | 4         | 5        | 0.000003  | 0.158919     | 7062536.185828     | 441456.188174 |\n",
      "PROGRESS: | 5         | 6        | 0.000003  | 0.172931     | 7054349.178409     | 436331.029744 |\n",
      "PROGRESS: | 6         | 7        | 0.000003  | 0.186949     | 7053909.066828     | 430723.907200 |\n",
      "PROGRESS: +-----------+----------+-----------+--------------+--------------------+---------------+\n",
      "PROGRESS: TERMINATED: Iteration limit reached.\n",
      "PROGRESS: This model may not be optimal. To improve it, consider increasing `max_iterations`.\n",
      "PROGRESS: Linear regression:\n",
      "PROGRESS: --------------------------------------------------------\n",
      "PROGRESS: Number of examples          : 9761\n",
      "PROGRESS: Number of features          : 17\n",
      "PROGRESS: Number of unpacked features : 17\n",
      "PROGRESS: Number of coefficients    : 18\n",
      "PROGRESS: Starting Accelerated Gradient (FISTA)\n",
      "PROGRESS: --------------------------------------------------------\n",
      "PROGRESS: +-----------+----------+-----------+--------------+--------------------+---------------+\n",
      "PROGRESS: | Iteration | Passes   | Step size | Elapsed Time | Training-max_error | Training-rmse |\n",
      "PROGRESS: +-----------+----------+-----------+--------------+--------------------+---------------+\n",
      "PROGRESS: Tuning step size. First iteration could take longer than subsequent iterations.\n",
      "PROGRESS: | 1         | 2        | 0.000005  | 0.115128     | 7202439.442101     | 484432.625377 |\n",
      "PROGRESS: | 2         | 3        | 0.000005  | 0.129268     | 7284840.298565     | 505076.954827 |\n",
      "PROGRESS: | 3         | 4        | 0.000005  | 0.143538     | 7266438.445660     | 490990.237855 |\n",
      "PROGRESS: | 4         | 5        | 0.000005  | 0.157764     | 7270633.139688     | 473802.625159 |\n",
      "PROGRESS: | 5         | 6        | 0.000005  | 0.171893     | 7320904.689497     | 462020.358653 |\n",
      "PROGRESS: | 6         | 7        | 0.000005  | 0.186289     | 7344719.665332     | 441190.123985 |\n",
      "PROGRESS: +-----------+----------+-----------+--------------+--------------------+---------------+\n",
      "PROGRESS: TERMINATED: Iteration limit reached.\n",
      "PROGRESS: This model may not be optimal. To improve it, consider increasing `max_iterations`.\n",
      "PROGRESS: Linear regression:\n",
      "PROGRESS: --------------------------------------------------------\n",
      "PROGRESS: Number of examples          : 9761\n",
      "PROGRESS: Number of features          : 17\n",
      "PROGRESS: Number of unpacked features : 17\n",
      "PROGRESS: Number of coefficients    : 18\n",
      "PROGRESS: Starting Accelerated Gradient (FISTA)\n",
      "PROGRESS: --------------------------------------------------------\n",
      "PROGRESS: +-----------+----------+-----------+--------------+--------------------+---------------+\n",
      "PROGRESS: | Iteration | Passes   | Step size | Elapsed Time | Training-max_error | Training-rmse |\n",
      "PROGRESS: +-----------+----------+-----------+--------------+--------------------+---------------+\n",
      "PROGRESS: Tuning step size. First iteration could take longer than subsequent iterations.\n",
      "PROGRESS: | 1         | 2        | 0.000012  | 0.105788     | 7228843.829153     | 476257.577720 |\n",
      "PROGRESS: | 2         | 3        | 0.000012  | 0.122218     | 7504641.811821     | 514487.205685 |\n",
      "PROGRESS: | 3         | 4        | 0.000012  | 0.138900     | 7402647.878877     | 451928.315910 |\n",
      "PROGRESS: | 4         | 5        | 0.000012  | 0.153043     | 7312309.081776     | 409957.463247 |\n",
      "PROGRESS: | 5         | 6        | 0.000012  | 0.167699     | 7239807.218168     | 388380.843122 |\n",
      "PROGRESS: | 6         | 7        | 0.000012  | 0.181869     | 7187431.218291     | 380705.223778 |\n",
      "PROGRESS: +-----------+----------+-----------+--------------+--------------------+---------------+\n",
      "PROGRESS: TERMINATED: Iteration limit reached.\n",
      "PROGRESS: This model may not be optimal. To improve it, consider increasing `max_iterations`.\n"
     ]
    }
   ],
   "source": [
    "model2 = [0]*len(l1_penalty_values)\n",
    "for i in range(len(l1_penalty_values)):\n",
    "    model2[i] = graphlab.linear_regression.create(training, target='price', features=all_features,\n",
    "                                              validation_set=None, \n",
    "                                              l2_penalty=0., l1_penalty=l1_penalty_values[i])"
   ]
  },
  {
   "cell_type": "code",
   "execution_count": 20,
   "metadata": {
    "collapsed": false
   },
   "outputs": [
    {
     "name": "stdout",
     "output_type": "stream",
     "text": [
      "18\n",
      "18\n",
      "18\n",
      "18\n",
      "17\n",
      "17\n",
      "17\n",
      "17\n",
      "17\n",
      "16\n",
      "15\n",
      "15\n",
      "13\n",
      "12\n",
      "10\n",
      "2976351441.63 3792690190.73\n",
      "6\n",
      "5\n",
      "3\n",
      "1\n",
      "1\n"
     ]
    }
   ],
   "source": [
    "for i in range(len(l1_penalty_values)):\n",
    "    print model2[i]['coefficients']['value'].nnz()\n",
    "    if model2[i]['coefficients']['value'].nnz() > max_nonzeros:\n",
    "        if model2[i+1]['coefficients']['value'].nnz() < max_nonzeros:\n",
    "            l1_penalty_min = l1_penalty_values[i]\n",
    "            l1_penalty_max = l1_penalty_values[i+1]\n",
    "            print l1_penalty_min, l1_penalty_max "
   ]
  },
  {
   "cell_type": "markdown",
   "metadata": {},
   "source": [
    "***QUIZ QUESTIONS***\n",
    "\n",
    "What values did you find for `l1_penalty_min` and`l1_penalty_max`? "
   ]
  },
  {
   "cell_type": "markdown",
   "metadata": {},
   "source": [
    "## Exploring the narrow range of values to find the solution with the right number of non-zeros that has lowest RSS on the validation set \n",
    "\n",
    "We will now explore the narrow region of `l1_penalty` values we found:"
   ]
  },
  {
   "cell_type": "code",
   "execution_count": 21,
   "metadata": {
    "collapsed": false
   },
   "outputs": [],
   "source": [
    "l1_penalty_values = np.linspace(l1_penalty_min,l1_penalty_max,20)"
   ]
  },
  {
   "cell_type": "markdown",
   "metadata": {},
   "source": [
    "* For `l1_penalty` in `np.linspace(l1_penalty_min,l1_penalty_max,20)`:\n",
    "    * Fit a regression model with a given `l1_penalty` on TRAIN data. Specify `l1_penalty=l1_penalty` and `l2_penalty=0.` in the parameter list. When you call `linear_regression.create()` make sure you set `validation_set = None`\n",
    "    * Measure the RSS of the learned model on the VALIDATION set\n",
    "\n",
    "Find the model that the lowest RSS on the VALIDATION set and has sparsity *equal* to `max_nonzero`."
   ]
  },
  {
   "cell_type": "code",
   "execution_count": 23,
   "metadata": {
    "collapsed": false
   },
   "outputs": [
    {
     "name": "stdout",
     "output_type": "stream",
     "text": [
      "2976351441.63\n"
     ]
    }
   ],
   "source": [
    "print l1_penalty_values[0]"
   ]
  },
  {
   "cell_type": "code",
   "execution_count": 37,
   "metadata": {
    "collapsed": false
   },
   "outputs": [
    {
     "name": "stdout",
     "output_type": "stream",
     "text": [
      "1.04693748875e+15\n",
      "1.05114762561e+15\n",
      "1.05599273534e+15\n",
      "1.06079953176e+15\n",
      "1.04693748875e+15 0 3448968612.16\n",
      "{'index': None, 'name': '(intercept)', 'value': 222253.1925443279}\n",
      "{'index': None, 'name': 'bedrooms', 'value': 661.7227177821262}\n",
      "{'index': None, 'name': 'bathrooms', 'value': 15873.957259267974}\n",
      "{'index': None, 'name': 'sqft_living', 'value': 32.410221451259254}\n",
      "{'index': None, 'name': 'sqft_living_sqrt', 'value': 690.1147733133093}\n",
      "{'index': None, 'name': 'grade', 'value': 2899.4202697499395}\n",
      "{'index': None, 'name': 'sqft_above', 'value': 30.01157530220153}\n",
      "7\n"
     ]
    }
   ],
   "source": [
    "ii = 0\n",
    "for i in l1_penalty_values:\n",
    "    model3 = graphlab.linear_regression.create(training, target='price', features=all_features, validation_set=None, l2_penalty=0., l1_penalty=i,verbose=0)\n",
    "    if model3['coefficients']['value'].nnz() == max_nonzeros:\n",
    "        RSS = get_residual_sum_of_square(model3, validation, validation['price'])\n",
    "        print RSS\n",
    "        if ii == 0:\n",
    "            least_rss = RSS\n",
    "            coefficient = model3['coefficients']\n",
    "            l1_penal = i \n",
    "            num = 0\n",
    "        elif least_rss > RSS:\n",
    "            least_rss = RSS\n",
    "            coefficient = model3['coefficients']\n",
    "            l1_penal = i\n",
    "            num = ii\n",
    "        ii = ii + 1        \n",
    "print least_rss, num, l1_penal\n",
    "NUM = 0\n",
    "for i in range(18):\n",
    "    if coefficient[i]['value']!=0:\n",
    "        print coefficient[i]\n",
    "        NUM += 1\n",
    "print NUM"
   ]
  },
  {
   "cell_type": "markdown",
   "metadata": {
    "collapsed": true
   },
   "source": [
    "***QUIZ QUESTIONS***\n",
    "1. What value of `l1_penalty` in our narrow range has the lowest RSS on the VALIDATION set and has sparsity *equal* to `max_nonzeros`?\n",
    "2. What features in this model have non-zero coefficients?"
   ]
  }
 ],
 "metadata": {
  "kernelspec": {
   "display_name": "Python 2",
   "language": "python",
   "name": "python2"
  },
  "language_info": {
   "codemirror_mode": {
    "name": "ipython",
    "version": 2
   },
   "file_extension": ".py",
   "mimetype": "text/x-python",
   "name": "python",
   "nbconvert_exporter": "python",
   "pygments_lexer": "ipython2",
   "version": "2.7.6"
  }
 },
 "nbformat": 4,
 "nbformat_minor": 0
}
